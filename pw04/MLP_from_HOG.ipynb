{
 "cells": [
  {
   "cell_type": "markdown",
   "metadata": {
    "id": "X_wPegydbafH"
   },
   "source": [
    "# Computing features to train a MLP\n",
    "This notebook will guide you through the use of the `keras` package to train a multilayer perceptron for handwritten digits classification. You are going to computing the histogram of gradients from the images in the `mnist` dataset (LeCun et al. 1998)"
   ]
  },
  {
   "cell_type": "markdown",
   "metadata": {
    "id": "61oGWRyMbafJ"
   },
   "source": [
    "## Loading the packages"
   ]
  },
  {
   "cell_type": "code",
   "execution_count": 2,
   "metadata": {
    "id": "duI9Ar-8bafS"
   },
   "outputs": [
    {
     "name": "stdout",
     "output_type": "stream",
     "text": [
      "Requirement already satisfied: tensorflow in /Users/shabnam/opt/anaconda3/envs/ARN_2023/lib/python3.9/site-packages (2.12.0)\n",
      "Requirement already satisfied: numpy<1.24,>=1.22 in /Users/shabnam/opt/anaconda3/envs/ARN_2023/lib/python3.9/site-packages (from tensorflow) (1.23.5)\n",
      "Requirement already satisfied: astunparse>=1.6.0 in /Users/shabnam/opt/anaconda3/envs/ARN_2023/lib/python3.9/site-packages (from tensorflow) (1.6.3)\n",
      "Requirement already satisfied: grpcio<2.0,>=1.24.3 in /Users/shabnam/opt/anaconda3/envs/ARN_2023/lib/python3.9/site-packages (from tensorflow) (1.53.0)\n",
      "Requirement already satisfied: google-pasta>=0.1.1 in /Users/shabnam/opt/anaconda3/envs/ARN_2023/lib/python3.9/site-packages (from tensorflow) (0.2.0)\n",
      "Requirement already satisfied: gast<=0.4.0,>=0.2.1 in /Users/shabnam/opt/anaconda3/envs/ARN_2023/lib/python3.9/site-packages (from tensorflow) (0.4.0)\n",
      "Requirement already satisfied: protobuf!=4.21.0,!=4.21.1,!=4.21.2,!=4.21.3,!=4.21.4,!=4.21.5,<5.0.0dev,>=3.20.3 in /Users/shabnam/opt/anaconda3/envs/ARN_2023/lib/python3.9/site-packages (from tensorflow) (4.22.1)\n",
      "Requirement already satisfied: termcolor>=1.1.0 in /Users/shabnam/opt/anaconda3/envs/ARN_2023/lib/python3.9/site-packages (from tensorflow) (2.2.0)\n",
      "Requirement already satisfied: libclang>=13.0.0 in /Users/shabnam/opt/anaconda3/envs/ARN_2023/lib/python3.9/site-packages (from tensorflow) (16.0.0)\n",
      "Requirement already satisfied: flatbuffers>=2.0 in /Users/shabnam/opt/anaconda3/envs/ARN_2023/lib/python3.9/site-packages (from tensorflow) (23.3.3)\n",
      "Requirement already satisfied: typing-extensions>=3.6.6 in /Users/shabnam/opt/anaconda3/envs/ARN_2023/lib/python3.9/site-packages (from tensorflow) (4.5.0)\n",
      "Requirement already satisfied: absl-py>=1.0.0 in /Users/shabnam/opt/anaconda3/envs/ARN_2023/lib/python3.9/site-packages (from tensorflow) (1.4.0)\n",
      "Requirement already satisfied: tensorboard<2.13,>=2.12 in /Users/shabnam/opt/anaconda3/envs/ARN_2023/lib/python3.9/site-packages (from tensorflow) (2.12.1)\n",
      "Requirement already satisfied: h5py>=2.9.0 in /Users/shabnam/opt/anaconda3/envs/ARN_2023/lib/python3.9/site-packages (from tensorflow) (3.8.0)\n",
      "Requirement already satisfied: opt-einsum>=2.3.2 in /Users/shabnam/opt/anaconda3/envs/ARN_2023/lib/python3.9/site-packages (from tensorflow) (3.3.0)\n",
      "Requirement already satisfied: packaging in /Users/shabnam/opt/anaconda3/envs/ARN_2023/lib/python3.9/site-packages (from tensorflow) (23.1)\n",
      "Requirement already satisfied: wrapt<1.15,>=1.11.0 in /Users/shabnam/opt/anaconda3/envs/ARN_2023/lib/python3.9/site-packages (from tensorflow) (1.14.1)\n",
      "Requirement already satisfied: keras<2.13,>=2.12.0 in /Users/shabnam/opt/anaconda3/envs/ARN_2023/lib/python3.9/site-packages (from tensorflow) (2.12.0)\n",
      "Requirement already satisfied: tensorflow-estimator<2.13,>=2.12.0 in /Users/shabnam/opt/anaconda3/envs/ARN_2023/lib/python3.9/site-packages (from tensorflow) (2.12.0)\n",
      "Requirement already satisfied: tensorflow-io-gcs-filesystem>=0.23.1 in /Users/shabnam/opt/anaconda3/envs/ARN_2023/lib/python3.9/site-packages (from tensorflow) (0.32.0)\n",
      "Requirement already satisfied: setuptools in /Users/shabnam/opt/anaconda3/envs/ARN_2023/lib/python3.9/site-packages (from tensorflow) (65.6.3)\n",
      "Requirement already satisfied: jax>=0.3.15 in /Users/shabnam/opt/anaconda3/envs/ARN_2023/lib/python3.9/site-packages (from tensorflow) (0.4.8)\n",
      "Requirement already satisfied: six>=1.12.0 in /Users/shabnam/opt/anaconda3/envs/ARN_2023/lib/python3.9/site-packages (from tensorflow) (1.16.0)\n",
      "Requirement already satisfied: wheel<1.0,>=0.23.0 in /Users/shabnam/opt/anaconda3/envs/ARN_2023/lib/python3.9/site-packages (from astunparse>=1.6.0->tensorflow) (0.38.4)\n",
      "Requirement already satisfied: scipy>=1.7 in /Users/shabnam/opt/anaconda3/envs/ARN_2023/lib/python3.9/site-packages (from jax>=0.3.15->tensorflow) (1.9.1)\n",
      "Requirement already satisfied: ml-dtypes>=0.0.3 in /Users/shabnam/opt/anaconda3/envs/ARN_2023/lib/python3.9/site-packages (from jax>=0.3.15->tensorflow) (0.1.0)\n",
      "Requirement already satisfied: google-auth-oauthlib<1.1,>=0.5 in /Users/shabnam/opt/anaconda3/envs/ARN_2023/lib/python3.9/site-packages (from tensorboard<2.13,>=2.12->tensorflow) (1.0.0)\n",
      "Requirement already satisfied: tensorboard-data-server<0.8.0,>=0.7.0 in /Users/shabnam/opt/anaconda3/envs/ARN_2023/lib/python3.9/site-packages (from tensorboard<2.13,>=2.12->tensorflow) (0.7.0)\n",
      "Requirement already satisfied: google-auth<3,>=1.6.3 in /Users/shabnam/opt/anaconda3/envs/ARN_2023/lib/python3.9/site-packages (from tensorboard<2.13,>=2.12->tensorflow) (2.17.2)\n",
      "Requirement already satisfied: markdown>=2.6.8 in /Users/shabnam/opt/anaconda3/envs/ARN_2023/lib/python3.9/site-packages (from tensorboard<2.13,>=2.12->tensorflow) (3.4.3)\n",
      "Requirement already satisfied: werkzeug>=1.0.1 in /Users/shabnam/opt/anaconda3/envs/ARN_2023/lib/python3.9/site-packages (from tensorboard<2.13,>=2.12->tensorflow) (2.2.3)\n",
      "Requirement already satisfied: tensorboard-plugin-wit>=1.6.0 in /Users/shabnam/opt/anaconda3/envs/ARN_2023/lib/python3.9/site-packages (from tensorboard<2.13,>=2.12->tensorflow) (1.8.1)\n",
      "Requirement already satisfied: requests<3,>=2.21.0 in /Users/shabnam/opt/anaconda3/envs/ARN_2023/lib/python3.9/site-packages (from tensorboard<2.13,>=2.12->tensorflow) (2.28.2)\n",
      "Requirement already satisfied: pyasn1-modules>=0.2.1 in /Users/shabnam/opt/anaconda3/envs/ARN_2023/lib/python3.9/site-packages (from google-auth<3,>=1.6.3->tensorboard<2.13,>=2.12->tensorflow) (0.2.8)\n",
      "Requirement already satisfied: cachetools<6.0,>=2.0.0 in /Users/shabnam/opt/anaconda3/envs/ARN_2023/lib/python3.9/site-packages (from google-auth<3,>=1.6.3->tensorboard<2.13,>=2.12->tensorflow) (5.3.0)\n",
      "Requirement already satisfied: rsa<5,>=3.1.4 in /Users/shabnam/opt/anaconda3/envs/ARN_2023/lib/python3.9/site-packages (from google-auth<3,>=1.6.3->tensorboard<2.13,>=2.12->tensorflow) (4.9)\n",
      "Requirement already satisfied: requests-oauthlib>=0.7.0 in /Users/shabnam/opt/anaconda3/envs/ARN_2023/lib/python3.9/site-packages (from google-auth-oauthlib<1.1,>=0.5->tensorboard<2.13,>=2.12->tensorflow) (1.3.1)\n",
      "Requirement already satisfied: importlib-metadata>=4.4 in /Users/shabnam/opt/anaconda3/envs/ARN_2023/lib/python3.9/site-packages (from markdown>=2.6.8->tensorboard<2.13,>=2.12->tensorflow) (6.3.0)\n",
      "Requirement already satisfied: certifi>=2017.4.17 in /Users/shabnam/opt/anaconda3/envs/ARN_2023/lib/python3.9/site-packages (from requests<3,>=2.21.0->tensorboard<2.13,>=2.12->tensorflow) (2022.12.7)\n",
      "Requirement already satisfied: urllib3<1.27,>=1.21.1 in /Users/shabnam/opt/anaconda3/envs/ARN_2023/lib/python3.9/site-packages (from requests<3,>=2.21.0->tensorboard<2.13,>=2.12->tensorflow) (1.26.15)\n",
      "Requirement already satisfied: idna<4,>=2.5 in /Users/shabnam/opt/anaconda3/envs/ARN_2023/lib/python3.9/site-packages (from requests<3,>=2.21.0->tensorboard<2.13,>=2.12->tensorflow) (3.4)\n",
      "Requirement already satisfied: charset-normalizer<4,>=2 in /Users/shabnam/opt/anaconda3/envs/ARN_2023/lib/python3.9/site-packages (from requests<3,>=2.21.0->tensorboard<2.13,>=2.12->tensorflow) (3.1.0)\n",
      "Requirement already satisfied: MarkupSafe>=2.1.1 in /Users/shabnam/opt/anaconda3/envs/ARN_2023/lib/python3.9/site-packages (from werkzeug>=1.0.1->tensorboard<2.13,>=2.12->tensorflow) (2.1.2)\n",
      "Requirement already satisfied: zipp>=0.5 in /Users/shabnam/opt/anaconda3/envs/ARN_2023/lib/python3.9/site-packages (from importlib-metadata>=4.4->markdown>=2.6.8->tensorboard<2.13,>=2.12->tensorflow) (3.15.0)\n",
      "Requirement already satisfied: pyasn1<0.5.0,>=0.4.6 in /Users/shabnam/opt/anaconda3/envs/ARN_2023/lib/python3.9/site-packages (from pyasn1-modules>=0.2.1->google-auth<3,>=1.6.3->tensorboard<2.13,>=2.12->tensorflow) (0.4.8)\n",
      "Requirement already satisfied: oauthlib>=3.0.0 in /Users/shabnam/opt/anaconda3/envs/ARN_2023/lib/python3.9/site-packages (from requests-oauthlib>=0.7.0->google-auth-oauthlib<1.1,>=0.5->tensorboard<2.13,>=2.12->tensorflow) (3.2.2)\n",
      "Note: you may need to restart the kernel to use updated packages.\n",
      "Requirement already satisfied: keras in /Users/shabnam/opt/anaconda3/envs/ARN_2023/lib/python3.9/site-packages (2.12.0)\n",
      "Note: you may need to restart the kernel to use updated packages.\n"
     ]
    }
   ],
   "source": [
    "import numpy as np\n",
    "from keras.datasets import mnist\n",
    "from keras.layers.core import Dense\n",
    "from keras.models import Sequential\n",
    "from keras.optimizers import RMSprop\n",
    "from keras.utils import np_utils\n",
    "from matplotlib import pyplot as pl\n",
    "from skimage import exposure\n",
    "from skimage.feature import hog\n",
    "from sklearn import metrics as me\n",
    "\n",
    "from utils import plot_confusion_matrix\n",
    "\n",
    "%matplotlib inline"
   ]
  },
  {
   "cell_type": "markdown",
   "metadata": {
    "id": "KpPmUqiRbafz"
   },
   "source": [
    "Load the `mnist` dataset and normalize in the range [0, 1]"
   ]
  },
  {
   "cell_type": "code",
   "execution_count": 3,
   "metadata": {
    "colab": {
     "base_uri": "https://localhost:8080/",
     "height": 51
    },
    "id": "verKKFaFbaf6",
    "outputId": "29e842da-35fa-49b6-a7f7-f35d9e8a71b9"
   },
   "outputs": [
    {
     "name": "stdout",
     "output_type": "stream",
     "text": [
      "60000 train samples\n",
      "10000 test samples\n"
     ]
    }
   ],
   "source": [
    "(X_train, y_train), (X_test, y_test) = mnist.load_data()\n",
    "\n",
    "n_train, height, width = X_train.shape\n",
    "n_test, _, _ = X_test.shape\n",
    "\n",
    "X_train = X_train.reshape(n_train, height, width, 1).astype('float32')\n",
    "X_test = X_test.reshape(n_test, height, width, 1).astype('float32')\n",
    "\n",
    "X_train /= 255.0\n",
    "X_test /= 255.0\n",
    "\n",
    "n_classes = 10\n",
    "\n",
    "print(n_train, 'train samples')\n",
    "print(n_test, 'test samples')\n",
    "\n",
    "# convert class vectors to binary class matrices\n",
    "Y_train = np_utils.to_categorical(y_train, n_classes)\n",
    "Y_test = np_utils.to_categorical(y_test, n_classes)"
   ]
  },
  {
   "cell_type": "markdown",
   "metadata": {
    "id": "TazeB7LLbagE"
   },
   "source": [
    "### An example of how to compute the histogram of gradients\n",
    "Let's compute the HOG for one image in the test dataset"
   ]
  },
  {
   "cell_type": "code",
   "execution_count": 4,
   "metadata": {
    "id": "cL-609oKbagI"
   },
   "outputs": [],
   "source": [
    "n_orientations = 8\n",
    "pix_p_cell = 4\n",
    "hog_size = int(height * width * n_orientations / (pix_p_cell * pix_p_cell))"
   ]
  },
  {
   "cell_type": "code",
   "execution_count": 5,
   "metadata": {
    "id": "r2DA2Da_bage"
   },
   "outputs": [],
   "source": [
    "fd, hog_image = hog(X_test[0,:,:,0], orientations=n_orientations, pixels_per_cell=(pix_p_cell, pix_p_cell), cells_per_block=(1, 1), visualize=True)\n",
    "hog_image_rescaled = exposure.rescale_intensity(hog_image, in_range=(0, 0.02))"
   ]
  },
  {
   "cell_type": "markdown",
   "metadata": {
    "id": "s2Ow4uJtbago"
   },
   "source": [
    "Show the image and the corresponding gradients"
   ]
  },
  {
   "cell_type": "code",
   "execution_count": 6,
   "metadata": {
    "colab": {
     "base_uri": "https://localhost:8080/",
     "height": 351
    },
    "id": "83RZeljKbagu",
    "outputId": "e1507d91-5cd9-484c-e0bc-0673b046a274"
   },
   "outputs": [
    {
     "data": {
      "image/png": "[encoded data removed]",
      "text/plain": [
       "<Figure size 1200x600 with 2 Axes>"
      ]
     },
     "metadata": {},
     "output_type": "display_data"
    }
   ],
   "source": [
    "fig, (ax1, ax2) = pl.subplots(1, 2, figsize=(12, 6), sharex=True, sharey=True)\n",
    "ax1.axis('off')\n",
    "ax1.imshow(X_test[0,:,:,0], cmap=pl.get_cmap('Greys'), interpolation='nearest')\n",
    "ax1.set_title('Input image')\n",
    "ax1.set_adjustable('box')\n",
    "\n",
    "ax2.axis('off')\n",
    "ax2.imshow(hog_image_rescaled, cmap=pl.get_cmap('Greys'), interpolation='nearest')\n",
    "ax2.set_title('Histogram of Oriented Gradients')\n",
    "ax1.set_adjustable('box')"
   ]
  },
  {
   "cell_type": "markdown",
   "metadata": {
    "id": "3Yv-ep9ybag4"
   },
   "source": [
    "Compute the HOGs for the train and test datasets\n",
    "\n",
    "> Indented block\n",
    "\n"
   ]
  },
  {
   "cell_type": "code",
   "execution_count": 7,
   "metadata": {
    "colab": {
     "base_uri": "https://localhost:8080/",
     "height": 51
    },
    "id": "y8Q3cdrebag6",
    "outputId": "4c21e6ce-56d2-4287-eab6-634cda1ad94b"
   },
   "outputs": [
    {
     "name": "stdout",
     "output_type": "stream",
     "text": [
      "X_train done\n",
      "X_test done\n"
     ]
    }
   ],
   "source": [
    "X_train_hog = np.zeros((X_train.shape[0], hog_size))\n",
    "X_test_hog = np.zeros((X_test.shape[0], hog_size))\n",
    "\n",
    "for i in np.arange(X_train_hog.shape[0]):\n",
    "    X_train_hog[i,:] = hog(X_train[i,:,:,0], orientations=n_orientations, pixels_per_cell=(pix_p_cell, pix_p_cell), cells_per_block=(1, 1), visualize=False)\n",
    "print('X_train done')\n",
    "\n",
    "for i in np.arange(X_test_hog.shape[0]):\n",
    "    X_test_hog[i,:] = hog(X_test[i,:,:,0], orientations=n_orientations, pixels_per_cell=(pix_p_cell, pix_p_cell), cells_per_block=(1, 1), visualize=False)\n",
    "print('X_test done')"
   ]
  },
  {
   "cell_type": "markdown",
   "metadata": {
    "id": "kos0aTYmbahU"
   },
   "source": [
    "Create the MLP"
   ]
  },
  {
   "cell_type": "code",
   "execution_count": 8,
   "metadata": {
    "colab": {
     "base_uri": "https://localhost:8080/",
     "height": 221
    },
    "id": "NnawtqztbahV",
    "outputId": "c99078e7-4754-41c7-dbe9-e953931c5f6c"
   },
   "outputs": [
    {
     "name": "stdout",
     "output_type": "stream",
     "text": [
      "Model: \"sequential\"\n",
      "_________________________________________________________________\n",
      " Layer (type)                Output Shape              Param #   \n",
      "=================================================================\n",
      " dense (Dense)               (None, 200)               78600     \n",
      "                                                                 \n",
      " dense_1 (Dense)             (None, 10)                2010      \n",
      "                                                                 \n",
      "=================================================================\n",
      "Total params: 80,610\n",
      "Trainable params: 80,610\n",
      "Non-trainable params: 0\n",
      "_________________________________________________________________\n"
     ]
    }
   ],
   "source": [
    "model = Sequential()\n",
    "model.add(Dense(200, input_shape=(hog_size,), activation='relu'))\n",
    "#model.add(Dropout(0.5))\n",
    "model.add(Dense(n_classes, activation='softmax'))\n",
    "\n",
    "model.summary()"
   ]
  },
  {
   "cell_type": "markdown",
   "metadata": {
    "id": "EGeviXzJbahY"
   },
   "source": [
    "Define some constants and train the MLP"
   ]
  },
  {
   "cell_type": "code",
   "execution_count": 9,
   "metadata": {
    "colab": {
     "base_uri": "https://localhost:8080/",
     "height": 374
    },
    "id": "laKFY8vcbahZ",
    "outputId": "5849045b-3563-4afb-edfa-5658aac89ec8"
   },
   "outputs": [
    {
     "name": "stdout",
     "output_type": "stream",
     "text": [
      "Epoch 1/10\n",
      "422/422 [==============================] - 1s 2ms/step - loss: 0.2383 - accuracy: 0.9436 - val_loss: 0.0868 - val_accuracy: 0.9743\n",
      "Epoch 2/10\n",
      "422/422 [==============================] - 1s 2ms/step - loss: 0.0942 - accuracy: 0.9703 - val_loss: 0.0754 - val_accuracy: 0.9755\n",
      "Epoch 3/10\n",
      "422/422 [==============================] - 1s 1ms/step - loss: 0.0781 - accuracy: 0.9749 - val_loss: 0.0705 - val_accuracy: 0.9778\n",
      "Epoch 4/10\n",
      "422/422 [==============================] - 1s 2ms/step - loss: 0.0684 - accuracy: 0.9778 - val_loss: 0.0647 - val_accuracy: 0.9793\n",
      "Epoch 5/10\n",
      "422/422 [==============================] - 1s 1ms/step - loss: 0.0600 - accuracy: 0.9808 - val_loss: 0.0655 - val_accuracy: 0.9792\n",
      "Epoch 6/10\n",
      "422/422 [==============================] - 1s 1ms/step - loss: 0.0531 - accuracy: 0.9832 - val_loss: 0.0637 - val_accuracy: 0.9795\n",
      "Epoch 7/10\n",
      "422/422 [==============================] - 1s 2ms/step - loss: 0.0472 - accuracy: 0.9854 - val_loss: 0.0656 - val_accuracy: 0.9797\n",
      "Epoch 8/10\n",
      "422/422 [==============================] - 1s 2ms/step - loss: 0.0417 - accuracy: 0.9869 - val_loss: 0.0648 - val_accuracy: 0.9807\n",
      "Epoch 9/10\n",
      "422/422 [==============================] - 1s 2ms/step - loss: 0.0370 - accuracy: 0.9886 - val_loss: 0.0582 - val_accuracy: 0.9823\n",
      "Epoch 10/10\n",
      "422/422 [==============================] - 1s 2ms/step - loss: 0.0325 - accuracy: 0.9903 - val_loss: 0.0620 - val_accuracy: 0.9820\n"
     ]
    }
   ],
   "source": [
    "batch_size = 128\n",
    "n_epoch = 10\n",
    "\n",
    "model.compile(loss='categorical_crossentropy', optimizer=RMSprop(), metrics=['accuracy'])\n",
    "\n",
    "history = model.fit(X_train_hog, Y_train,\n",
    "                    batch_size=batch_size, epochs=n_epoch,\n",
    "                    verbose=1, validation_split=0.1)"
   ]
  },
  {
   "cell_type": "markdown",
   "metadata": {
    "id": "aezTZuCMbahf"
   },
   "source": [
    "Show the performance of the model"
   ]
  },
  {
   "cell_type": "code",
   "execution_count": 10,
   "metadata": {
    "colab": {
     "base_uri": "https://localhost:8080/",
     "height": 299
    },
    "id": "u6E66I52bahg",
    "outputId": "52139b93-823a-4fca-de59-a64f77f3b0ab"
   },
   "outputs": [
    {
     "name": "stdout",
     "output_type": "stream",
     "text": [
      "Test score: 0.06543819606304169\n",
      "Test accuracy: 0.9800000190734863\n"
     ]
    },
    {
     "data": {
      "image/png": "[encoded data removed]",
      "text/plain": [
       "<Figure size 640x480 with 1 Axes>"
      ]
     },
     "metadata": {},
     "output_type": "display_data"
    }
   ],
   "source": [
    "pl.plot(history.history['loss'], label='Training')\n",
    "pl.plot(history.history['val_loss'], label='Testing')\n",
    "pl.legend()\n",
    "pl.grid()\n",
    "\n",
    "score = model.evaluate(X_test_hog, Y_test, verbose=0)\n",
    "print('Test score:', score[0])\n",
    "print('Test accuracy:', score[1])"
   ]
  },
  {
   "cell_type": "markdown",
   "metadata": {
    "id": "axdxLHYMbahu"
   },
   "source": [
    "Confusion matrix"
   ]
  },
  {
   "cell_type": "code",
   "execution_count": 11,
   "metadata": {
    "colab": {
     "base_uri": "https://localhost:8080/",
     "height": 187
    },
    "id": "Mhm1wjNfbahv",
    "outputId": "8366db2a-2162-4c03-d1d3-de0a4114c3cb"
   },
   "outputs": [
    {
     "name": "stdout",
     "output_type": "stream",
     "text": [
      "313/313 [==============================] - 0s 653us/step\n"
     ]
    },
    {
     "data": {
      "text/plain": [
       "array([[ 969,    0,    1,    0,    0,    2,    5,    1,    1,    1],\n",
       "       [   1, 1128,    1,    1,    0,    2,    1,    0,    1,    0],\n",
       "       [   2,    5, 1010,    1,    3,    0,    1,    3,    7,    0],\n",
       "       [   0,    1,    5,  968,    0,   22,    1,    4,    9,    0],\n",
       "       [   0,    3,    2,    0,  969,    0,    0,    1,    3,    4],\n",
       "       [   1,    1,    0,    4,    0,  882,    3,    0,    1,    0],\n",
       "       [   2,    2,    1,    0,    3,    2,  948,    0,    0,    0],\n",
       "       [   0,    5,    7,    2,    4,    1,    0,  995,    5,    9],\n",
       "       [   4,    0,    0,    2,    1,    1,    2,    5,  954,    5],\n",
       "       [   0,    5,    1,    4,    7,    6,    0,    4,    5,  977]])"
      ]
     },
     "execution_count": 11,
     "metadata": {},
     "output_type": "execute_result"
    }
   ],
   "source": [
    "pred = np.argmax(model.predict(X_test_hog), axis=-1)\n",
    "cm = me.confusion_matrix(y_test, pred)\n",
    "\n",
    "plot_confusion_matrix(cm)"
   ]
  }
 ],
 "metadata": {
  "accelerator": "GPU",
  "colab": {
   "collapsed_sections": [],
   "name": "MLP_from_HOG.ipynb",
   "provenance": []
  },
  "kernelspec": {
   "display_name": "Python 3 (ipykernel)",
   "language": "python",
   "name": "python3"
  },
  "language_info": {
   "codemirror_mode": {
    "name": "ipython",
    "version": 3
   },
   "file_extension": ".py",
   "mimetype": "text/x-python",
   "name": "python",
   "nbconvert_exporter": "python",
   "pygments_lexer": "ipython3",
   "version": "3.9.16"
  }
 },
 "nbformat": 4,
 "nbformat_minor": 1
}
